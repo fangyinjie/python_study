{
 "cells": [
  {
   "cell_type": "markdown",
   "source": [
    "## 1.简介"
   ],
   "metadata": {
    "collapsed": false
   }
  },
  {
   "cell_type": "markdown",
   "source": [
    "一般来说，库、包、模块概念近似，都是代码组织方式。Python中：\n",
    "- 模块（module）：指Python的源代码文件。\n",
    "- 包（package）：指模块组织在一起的和包名同名的目录及其相关文件，旨在模块化组织模块便利。"
   ],
   "metadata": {
    "collapsed": false
   }
  },
  {
   "cell_type": "markdown",
   "source": [
    "## 2.导入语句"
   ],
   "metadata": {
    "collapsed": false
   }
  },
  {
   "cell_type": "markdown",
   "source": [
    "### 2.1 import语句"
   ],
   "metadata": {
    "collapsed": false
   }
  },
  {
   "cell_type": "markdown",
   "source": [
    "例如：\n",
    "-import\n",
    "-import ... as ...\n",
    "\n",
    "-导入顶级模块，其名称会加入到本地名词空间中，并绑定到其模块对象；\n",
    "-导入非顶级模块，只将其顶级模块名称加入到本地名词空间中。导入的模块必须使用完全限定名称来访问\n",
    "如果使用了as，as后的名称直接绑定到导入的模块对象，并将该名称加入到本地名词空间中\n",
    "import 之后只能是模块类型"
   ],
   "metadata": {
    "collapsed": false
   }
  },
  {
   "cell_type": "code",
   "execution_count": 15,
   "outputs": [
    {
     "name": "stdout",
     "output_type": "stream",
     "text": [
      "__dir()__\n",
      "DataFrame\n",
      "In\n",
      "Out\n",
      "_\n",
      "__\n",
      "___\n",
      "__builtin__\n",
      "__builtins__\n",
      "__doc__\n",
      "__loader__\n",
      "__name__\n",
      "__package__\n",
      "__spec__\n",
      "_dh\n",
      "_i\n",
      "_i1\n",
      "_i10\n",
      "_i11\n",
      "_i12\n",
      "_i13\n",
      "_i14\n",
      "_i15\n",
      "_i2\n",
      "_i3\n",
      "_i4\n",
      "_i5\n",
      "_i6\n",
      "_i7\n",
      "_i8\n",
      "_i9\n",
      "_ih\n",
      "_ii\n",
      "_iii\n",
      "_oh\n",
      "_pydevd_bundle\n",
      "exit\n",
      "fyj\n",
      "get_ipython\n",
      "key\n",
      "pydev_jupyter_vars\n",
      "quit\n",
      "remove_imported_pydev_package\n",
      "sys\n",
      "value\n",
      "x\n",
      "__globals()__\n",
      "<class 'dict'>\n",
      "__name__\n",
      "__doc__\n",
      "__package__\n",
      "__loader__\n",
      "__spec__\n",
      "__builtin__\n",
      "__builtins__\n",
      "_ih\n",
      "_oh\n",
      "_dh\n",
      "In\n",
      "Out\n",
      "get_ipython\n",
      "exit\n",
      "quit\n",
      "_\n",
      "__\n",
      "___\n",
      "_i\n",
      "_ii\n",
      "_iii\n",
      "_i1\n",
      "sys\n",
      "remove_imported_pydev_package\n",
      "_pydevd_bundle\n",
      "pydev_jupyter_vars\n",
      "DataFrame\n",
      "_i2\n",
      "_i3\n",
      "x\n",
      "_i4\n",
      "_i5\n",
      "_i6\n",
      "_i7\n",
      "_i8\n",
      "_i9\n",
      "_i10\n",
      "key\n",
      "value\n",
      "_i11\n",
      "_i12\n",
      "_i13\n",
      "_i14\n",
      "fyj\n",
      "_i15\n",
      "True\n"
     ]
    }
   ],
   "source": [
    "fyj = 1\n",
    "print('__dir()__')\n",
    "for x in dir():\n",
    "    print(x)\n",
    "print('__globals()__')\n",
    "print(type(globals()))\n",
    "for key, value in globals().items():\n",
    "    print(key)\n",
    "print('fyj' in globals())# print(globals().keys())"
   ],
   "metadata": {
    "collapsed": false
   }
  },
  {
   "cell_type": "markdown",
   "source": [
    "## 2.3、from语句"
   ],
   "metadata": {
    "collapsed": false
   }
  },
  {
   "cell_type": "markdown",
   "source": [
    "例如：\n",
    "-import\n",
    "-import ... as ..."
   ],
   "metadata": {
    "collapsed": false
   }
  },
  {
   "cell_type": "markdown",
   "source": [
    "## 3.自定义模块"
   ],
   "metadata": {
    "collapsed": false
   }
  },
  {
   "cell_type": "code",
   "execution_count": null,
   "outputs": [],
   "source": [],
   "metadata": {
    "collapsed": false,
    "pycharm": {
     "is_executing": true
    }
   }
  },
  {
   "cell_type": "code",
   "execution_count": 16,
   "outputs": [
    {
     "name": "stdout",
     "output_type": "stream",
     "text": [
      "C:\\Program Files\\JetBrains\\PyCharm 2022.3.3\\plugins\\python\\helpers-pro\\jupyter_debug\n",
      "C:\\Program Files\\JetBrains\\PyCharm 2022.3.3\\plugins\\python\\helpers\\pydev\n",
      "D:\\github\\python_study\\Python模块化\n",
      "D:\\github\\python_study\n",
      "C:\\ProgramData\\Anaconda3\\python39.zip\n",
      "C:\\ProgramData\\Anaconda3\\DLLs\n",
      "C:\\ProgramData\\Anaconda3\\lib\n",
      "C:\\ProgramData\\Anaconda3\n",
      "\n",
      "C:\\ProgramData\\Anaconda3\\lib\\site-packages\n",
      "C:\\ProgramData\\Anaconda3\\lib\\site-packages\\win32\n",
      "C:\\ProgramData\\Anaconda3\\lib\\site-packages\\win32\\lib\n",
      "C:\\ProgramData\\Anaconda3\\lib\\site-packages\\Pythonwin\n",
      "C:\\ProgramData\\Anaconda3\\lib\\site-packages\\IPython\\extensions\n",
      "C:\\Users\\49467\\.ipython\n"
     ]
    }
   ],
   "source": [
    "import sys\n",
    "print(*sys.path, sep='\\n')"
   ],
   "metadata": {
    "collapsed": false
   }
  },
  {
   "cell_type": "markdown",
   "source": [
    "\\_\\_file\\_\\_： 字符串，源文件路径\n",
    "\\_\\_cached\\_\\_： 字符串，编译后的字节码文件路径\n",
    "\\_\\_spec\\_\\_： 显示模块的规范\n",
    "\\_\\_name\\_\\_： 模块名\n",
    "\\_\\_package\\_\\_： 当模块是包，同 __name__ ;否则，可以设置为顶级模块的空字符串"
   ],
   "metadata": {
    "collapsed": false
   }
  },
  {
   "cell_type": "code",
   "execution_count": 24,
   "outputs": [
    {
     "name": "stdout",
     "output_type": "stream",
     "text": [
      "__main__\n",
      "None\n"
     ]
    }
   ],
   "source": [
    "# print(__file__)\n",
    "# print(__cached__)\n",
    "# print(__spec__)\n",
    "print(__name__)\n",
    "A = 5\n",
    "_B = 6\n",
    "__C = 7\n",
    "__my__ = 8\n",
    "print(__package__)"
   ],
   "metadata": {
    "collapsed": false
   }
  },
  {
   "cell_type": "markdown",
   "source": [
    "- 如果模块没有\\_\\_all\\_\\_，\n",
    "from xyz import * 只导入非下划线开头(私有)的该模块的变量(或者函数)。如果是包，子模块也不会导入，除非在\\_\\_all\\_\\_中设置，或\\_\\_init\\_\\_.py中导入它们。\n",
    "- 如果模块有\\_\\_all\\_\\_，\n",
    "from xyz import * 只导入\\_\\_all\\_\\_列表中指定的名称，哪怕这个名词是下划线开头的，或者是子模块\n",
    "\n",
    "from xyz import * 方式导入，使用简单，但是其副作用是导入大量不需要使用的变量，甚至有可能造成名称的冲突。而 __all__ 可以控制被导入模块在这种导入方式下能够提供的变量名称，就\n",
    "是为了阻止from xyz import *导入过多的模块变量，从而避免冲突。因此，编写模块时，应该尽量加入 __all__"
   ],
   "metadata": {
    "collapsed": false
   }
  },
  {
   "cell_type": "code",
   "execution_count": null,
   "outputs": [],
   "source": [],
   "metadata": {
    "collapsed": false
   }
  }
 ],
 "metadata": {
  "kernelspec": {
   "display_name": "Python 3",
   "language": "python",
   "name": "python3"
  },
  "language_info": {
   "codemirror_mode": {
    "name": "ipython",
    "version": 2
   },
   "file_extension": ".py",
   "mimetype": "text/x-python",
   "name": "python",
   "nbconvert_exporter": "python",
   "pygments_lexer": "ipython2",
   "version": "2.7.6"
  }
 },
 "nbformat": 4,
 "nbformat_minor": 0
}
