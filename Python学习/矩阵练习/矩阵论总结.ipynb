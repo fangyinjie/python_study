{
 "cells": [
  {
   "cell_type": "markdown",
   "source": [
    "# 矩阵论"
   ],
   "metadata": {
    "collapsed": false
   }
  },
  {
   "cell_type": "markdown",
   "source": [
    "## 1.数据创建"
   ],
   "metadata": {
    "collapsed": false
   }
  },
  {
   "cell_type": "code",
   "execution_count": 1,
   "outputs": [
    {
     "ename": "ModuleNotFoundError",
     "evalue": "No module named 'scipy'",
     "output_type": "error",
     "traceback": [
      "\u001B[1;31m---------------------------------------------------------------------------\u001B[0m",
      "\u001B[1;31mModuleNotFoundError\u001B[0m                       Traceback (most recent call last)",
      "Cell \u001B[1;32mIn[1], line 2\u001B[0m\n\u001B[0;32m      1\u001B[0m \u001B[38;5;28;01mimport\u001B[39;00m \u001B[38;5;21;01mnumpy\u001B[39;00m \u001B[38;5;28;01mas\u001B[39;00m \u001B[38;5;21;01mnp\u001B[39;00m\n\u001B[1;32m----> 2\u001B[0m \u001B[38;5;28;01mfrom\u001B[39;00m \u001B[38;5;21;01mscipy\u001B[39;00m\u001B[38;5;21;01m.\u001B[39;00m\u001B[38;5;21;01mlinalg\u001B[39;00m \u001B[38;5;28;01mimport\u001B[39;00m \u001B[38;5;241m*\u001B[39m\n\u001B[0;32m      3\u001B[0m \u001B[38;5;28;01mfrom\u001B[39;00m \u001B[38;5;21;01msympy\u001B[39;00m \u001B[38;5;28;01mimport\u001B[39;00m Matrix\n\u001B[0;32m      4\u001B[0m \u001B[38;5;28;01mimport\u001B[39;00m \u001B[38;5;21;01mpprint\u001B[39;00m\n",
      "\u001B[1;31mModuleNotFoundError\u001B[0m: No module named 'scipy'"
     ]
    }
   ],
   "source": [
    "import numpy as np\n",
    "from scipy.linalg import *\n",
    "from sympy import Matrix\n",
    "import pprint\n",
    "import matplotlib.pyplot as plt\n",
    "import networkx as nx\n",
    "import numpy.linalg"
   ],
   "metadata": {
    "collapsed": false,
    "ExecuteTime": {
     "end_time": "2024-02-19T19:29:16.719753500Z",
     "start_time": "2024-02-19T19:29:15.855793100Z"
    }
   }
  },
  {
   "cell_type": "markdown",
   "source": [
    "### 1.1 手动数据输入"
   ],
   "metadata": {
    "collapsed": false
   }
  },
  {
   "cell_type": "code",
   "execution_count": 13,
   "outputs": [
    {
     "name": "stdout",
     "output_type": "stream",
     "text": [
      "[[0 1 0 0 1 1 0]\n",
      " [0 0 1 0 1 0 0]\n",
      " [0 0 0 1 0 0 0]\n",
      " [0 0 0 0 0 0 1]\n",
      " [0 0 0 1 0 1 1]\n",
      " [0 0 0 0 0 0 1]\n",
      " [0 0 0 0 0 0 0]]\n"
     ]
    }
   ],
   "source": [
    "T1 = np.array([[0, 1, 0, 0, 1, 1, 0],\n",
    "               [0, 0, 1, 0, 1, 0, 0],\n",
    "               [0, 0, 0, 1, 0, 0, 0],\n",
    "               [0, 0, 0, 0, 0, 0, 1],\n",
    "               [0, 0, 0, 1, 0, 1, 1],\n",
    "               [0, 0, 0, 0, 0, 0, 1],\n",
    "               [0, 0, 0, 0, 0, 0, 0]])\n",
    "# A1 = np.mat()\n",
    "# A1 = np.array()\n",
    "print(T1)"
   ],
   "metadata": {
    "collapsed": false
   }
  },
  {
   "cell_type": "code",
   "execution_count": 12,
   "outputs": [
    {
     "name": "stdout",
     "output_type": "stream",
     "text": [
      "one_dim_M11:\n",
      "[0 1 4]\n",
      "one_dim_M12:\n",
      "[[1 2 3]]\n",
      "one_dim_M13:\n",
      "[[4]\n",
      " [5]\n",
      " [6]]\n"
     ]
    }
   ],
   "source": [
    "# 1-D array: 1 x 3 创建一维数组\n",
    "one_dim_M11 = np.array([0,1,4])\n",
    "\n",
    "# 1-D array\n",
    "one_dim_M12 = np.array([[1, 2, 3]])\n",
    "\n",
    "# one_dim_vec2 = np.array([4, 5, 6])\n",
    "one_dim_M13 = np.array([[4,], [5,], [6,]])\n",
    "\n",
    "print(f'one_dim_M11:\\n{one_dim_M11}')\n",
    "print(f'one_dim_M12:\\n{one_dim_M12}')\n",
    "print(f'one_dim_M13:\\n{one_dim_M13}')"
   ],
   "metadata": {
    "collapsed": false
   }
  },
  {
   "cell_type": "code",
   "execution_count": 11,
   "outputs": [
    {
     "name": "stdout",
     "output_type": "stream",
     "text": [
      "two_dim_M21:\n",
      "[[1 2 3]\n",
      " [4 5 6]]\n",
      "two_dim_M22:\n",
      "[[1 2 3 4]\n",
      " [5 6 7 8]]\n",
      "two_dim_M23:\n",
      "[[1 2]\n",
      " [3 4]\n",
      " [5 6]]\n"
     ]
    }
   ],
   "source": [
    "# 2-D array: 2 x 3\n",
    "two_dim_M21 = np.array([[1, 2, 3],\n",
    "                        [4, 5, 6]])\n",
    "# 创建多维数组\n",
    "two_dim_M22 = np.array([[1, 2, 3, 4],\n",
    "                        [5, 6, 7, 8]])\n",
    "# 2-D array: 3 x 2\n",
    "two_dim_M23 = np.array([[1, 2],\n",
    "                        [3, 4],\n",
    "                        [5, 6]])\n",
    "\n",
    "print(f'two_dim_M21:\\n{two_dim_M21}')\n",
    "print(f'two_dim_M22:\\n{two_dim_M22}')\n",
    "print(f'two_dim_M23:\\n{two_dim_M23}')"
   ],
   "metadata": {
    "collapsed": false
   }
  },
  {
   "cell_type": "markdown",
   "source": [
    "### 1.2 自动数据输入"
   ],
   "metadata": {
    "collapsed": false
   }
  },
  {
   "cell_type": "code",
   "execution_count": 10,
   "outputs": [
    {
     "name": "stdout",
     "output_type": "stream",
     "text": [
      "[0 1 2 3 4 5]\n",
      "[0. 1. 2. 3. 4. 5.]\n",
      "[[0 1 2 3 4 5]]\n",
      "[0.+0.j 1.+0.j 2.+0.j 3.+0.j 4.+0.j 5.+0.j]\n",
      "[[0. 1. 2. 3. 4. 5.]\n",
      " [0. 1. 2. 3. 4. 5.]]\n"
     ]
    }
   ],
   "source": [
    "a1 = np.array(range(6), dtype = int)            # 创建整数类型的数组\n",
    "a2 = np.arange(6, dtype = 'f')                  # 类似range,创建浮点型的数组\n",
    "a3 = np.array(range(6), dtype = int, ndmin=2)   # 创建两个维度，数据类型是整数的数组\n",
    "# 创建复数型的数组\n",
    "a4 = np.arange(6, dtype = 'D')\n",
    "# 输入的是几个维度，就自动生成几个维度的数组\n",
    "a5 = np.array([range(6),range(6)],ndmin=0,dtype=float)\n",
    "print(a1)\n",
    "print(a2)\n",
    "print(a3)\n",
    "print(a4)\n",
    "print(a5)"
   ],
   "metadata": {
    "collapsed": false
   }
  },
  {
   "cell_type": "code",
   "execution_count": 9,
   "outputs": [
    {
     "name": "stdout",
     "output_type": "stream",
     "text": [
      "one1:\n",
      "[[1. 1.]]\n",
      "one2:\n",
      "[[1. 1. 1.]\n",
      " [1. 1. 1.]\n",
      " [1. 1. 1.]]\n"
     ]
    }
   ],
   "source": [
    "print(f'one1:\\n{np.ones([1,2])}')           # 创建一个值均为1的1*2维ndarray对象\n",
    "print(f'one2:\\n{np.ones((3,3))}')           # 生成一个3x3全1的矩阵"
   ],
   "metadata": {
    "collapsed": false
   }
  },
  {
   "cell_type": "code",
   "execution_count": null,
   "outputs": [],
   "source": [
    "print(f'zeros1:\\n{np.zeros((2, 2))}')\n",
    "print(f'zeros2:\\n{np.zeros((2, 2), dtype = bool)}')"
   ],
   "metadata": {
    "collapsed": false
   }
  },
  {
   "cell_type": "code",
   "execution_count": 8,
   "outputs": [
    {
     "name": "stdout",
     "output_type": "stream",
     "text": [
      "full1:\n",
      "[[2.1 2.1 2.1]\n",
      " [2.1 2.1 2.1]\n",
      " [2.1 2.1 2.1]]\n"
     ]
    }
   ],
   "source": [
    "print(f'full1:\\n{np.full((3,3),2.1)}')     # 创建一个值均为7的3*3维ndarray对象"
   ],
   "metadata": {
    "collapsed": false
   }
  },
  {
   "cell_type": "code",
   "execution_count": 7,
   "outputs": [
    {
     "name": "stdout",
     "output_type": "stream",
     "text": [
      "eye1:\n",
      "[[1. 0. 0.]\n",
      " [0. 1. 0.]\n",
      " [0. 0. 1.]]\n",
      "eye3:\n",
      "[[0. 1. 0.]\n",
      " [0. 0. 1.]\n",
      " [0. 0. 0.]]\n",
      "identity1:\n",
      "[[1. 0. 0.]\n",
      " [0. 1. 0.]\n",
      " [0. 0. 1.]]\n"
     ]
    }
   ],
   "source": [
    "print(f'eye1:\\n{np.eye(3)}')        # 等于 print(f'eye2:\\n{np.eye(3, 3)}')\n",
    "print(f'eye3:\\n{np.eye(3, k=1)}')        # 向后面移动一位\n",
    "print(f'identity1:\\n{np.identity(3)}')"
   ],
   "metadata": {
    "collapsed": false
   }
  },
  {
   "cell_type": "code",
   "execution_count": null,
   "outputs": [],
   "source": [
    "print(f'random:\\n{np.random.randint(0,10,(3,3))}')"
   ],
   "metadata": {
    "collapsed": false
   }
  },
  {
   "cell_type": "markdown",
   "source": [
    "### 1.3 数据属性以及转换 (打印矩阵的shape，ndim，size，dtype)"
   ],
   "metadata": {
    "collapsed": false
   }
  },
  {
   "cell_type": "markdown",
   "source": [
    "array函数\n",
    "array.astype('xxx eg float32')  # 把矩阵中的数据改为float32类型\n",
    "$array.sum()$       求和\n",
    "$array.max()$       求最大值\n",
    "$array.min()$       求最小值\n",
    "$array.mean()$      求平均值"
   ],
   "metadata": {
    "collapsed": false
   }
  },
  {
   "cell_type": "code",
   "execution_count": null,
   "outputs": [],
   "source": [
    "print(np.array(range(3)))\n",
    "print(np.array(range(3)).shape)\n",
    "print(np.array(range(3)).ndim)\n",
    "print(np.array(range(3)).size)\n",
    "print(np.array(range(3)).dtype)\n",
    "print(np.array(range(3)).astype(bool))       # 数据矩阵转化成bool类型的数据矩阵\n",
    "print(~np.array(range(3)).astype(bool))      # 数据矩阵转化成bool类型的数据矩阵\n",
    "print(np.array([False, True]).astype(int))   # 数据矩阵转化成int类型的数据矩阵"
   ],
   "metadata": {
    "collapsed": false
   }
  },
  {
   "cell_type": "code",
   "execution_count": null,
   "outputs": [],
   "source": [
    "print(np.arange(12).reshape(3, 4))"
   ],
   "metadata": {
    "collapsed": false
   }
  },
  {
   "cell_type": "code",
   "execution_count": null,
   "outputs": [],
   "source": [
    "print(np.arange(12).reshape(3, 4).shape)\n",
    "print(np.arange(12).reshape(3, 4).ndim)\n",
    "print(np.arange(12).reshape(3, 4).size)\n",
    "print(np.arange(12).reshape(3, 4).dtype)"
   ],
   "metadata": {
    "collapsed": false
   }
  },
  {
   "cell_type": "code",
   "execution_count": null,
   "outputs": [],
   "source": [
    "print(np.arange(12).reshape(3, 4).T.shape)# a = a.T # 矩阵转置\n",
    "print(np.arange(12).reshape(3, 4).T.ndim)\n",
    "print(np.arange(12).reshape(3, 4).T.size)\n",
    "print(np.arange(12).reshape(3, 4).T.dtype)"
   ],
   "metadata": {
    "collapsed": false
   }
  },
  {
   "cell_type": "code",
   "execution_count": null,
   "outputs": [],
   "source": [
    "# a = a[0,:] # 获取第一列——》向量   # a = a[:,0] # 获取第一行——》向量\\"
   ],
   "metadata": {
    "collapsed": false
   }
  },
  {
   "cell_type": "markdown",
   "source": [
    "## 2 矩阵运算"
   ],
   "metadata": {
    "collapsed": false
   }
  },
  {
   "cell_type": "code",
   "execution_count": null,
   "outputs": [],
   "source": [
    "print('two_multi_res:\\n %s' % (np.dot(two_dim_M21, two_dim_M23) ))\n",
    "print('one_result_res\\n %s' % (np.dot(one_dim_M12, one_dim_M13) ))"
   ],
   "metadata": {
    "collapsed": false
   }
  },
  {
   "cell_type": "code",
   "execution_count": null,
   "outputs": [],
   "source": [
    "Di = np.random.randint(0,10,(3,3))\n",
    "print(f'Di:\\n{Di}')\n",
    "print(f'Di**2:\\n{Di**2}')\n",
    "print(f'Di**3:\\n{Di**3}')"
   ],
   "metadata": {
    "collapsed": false
   }
  },
  {
   "cell_type": "code",
   "execution_count": null,
   "outputs": [],
   "source": [
    "# np.array.any()是或操作，任意一个元素为True，输出为True。\n",
    "# np.array.all()是与操作，所有元素为True，输出为True\n",
    "# x = (Mold == Mnew).all()"
   ],
   "metadata": {
    "collapsed": false
   }
  },
  {
   "cell_type": "markdown",
   "source": [
    "## 2.1 逻辑运算"
   ],
   "metadata": {
    "collapsed": false
   }
  },
  {
   "cell_type": "code",
   "execution_count": null,
   "outputs": [],
   "source": [
    "cond1 = np.array([1,  1, 1, 1,  0])\n",
    "# cond1 = np.array([True, False, True, True, False])\n",
    "cond2 = np.array([0, 1, 0, 1, 0])\n",
    "# cond2 = np.array([False, True, False, True, False])\n",
    "print(cond1)\n",
    "print(cond2)"
   ],
   "metadata": {
    "collapsed": false
   }
  },
  {
   "cell_type": "markdown",
   "source": [
    "### 2.1.1.与运算:"
   ],
   "metadata": {
    "collapsed": false
   }
  },
  {
   "cell_type": "code",
   "execution_count": null,
   "outputs": [],
   "source": [
    "print('AND-operation')\n",
    "print( np.logical_and(cond1, cond2) )\n",
    "print( cond1 & cond2 )\n",
    "# print( cond1 and cond2 )"
   ],
   "metadata": {
    "collapsed": false
   }
  },
  {
   "cell_type": "markdown",
   "source": [
    "### 2.1.2.或运算:"
   ],
   "metadata": {
    "collapsed": false
   }
  },
  {
   "cell_type": "code",
   "execution_count": null,
   "outputs": [],
   "source": [
    "print('OR-operation')\n",
    "print( np.logical_or(cond1, cond2) )\n",
    "print( cond1 |  cond2 )             # cond1 cond2 矩阵取或运算\n",
    "# print( cond1 or cond2 )"
   ],
   "metadata": {
    "collapsed": false
   }
  },
  {
   "cell_type": "markdown",
   "source": [
    "### 2.1.3.非运算："
   ],
   "metadata": {
    "collapsed": false
   }
  },
  {
   "cell_type": "code",
   "execution_count": null,
   "outputs": [],
   "source": [
    "print('NOT-operation')\n",
    "print( np.logical_not(cond1) )\n",
    "print( np.logical_not(cond2) )\n",
    "print( ~np.logical_not(cond1) )\n",
    "print( ~np.logical_not(cond2) )\n",
    "# print( not cond1 )"
   ],
   "metadata": {
    "collapsed": false
   }
  },
  {
   "cell_type": "markdown",
   "source": [
    "### 2.1.4.异或运算:"
   ],
   "metadata": {
    "collapsed": false
   }
  },
  {
   "cell_type": "code",
   "execution_count": null,
   "outputs": [],
   "source": [
    "print( np.logical_xor(cond1, cond2) )\n",
    "print( np.bitwise_xor(cond1, cond2) )\n",
    "print( cond1 ^ cond2 )"
   ],
   "metadata": {
    "collapsed": false
   }
  },
  {
   "cell_type": "code",
   "execution_count": 6,
   "outputs": [
    {
     "name": "stdout",
     "output_type": "stream",
     "text": [
      "[ True False  True False False]\n",
      "[1 0 1 0 0]\n",
      "[1 0 1 0 0]\n"
     ]
    }
   ],
   "source": [],
   "metadata": {
    "collapsed": false
   }
  },
  {
   "cell_type": "code",
   "execution_count": null,
   "outputs": [],
   "source": [
    "print(orth(np.array([[1,2,3],[2,1,3],[3,2,1]])))        # 计算正交基\n",
    "print(np.dot(np.array([[1,2,3],[2,1,3],[3,2,1]]), orth(np.array([[1,2,3],[2,1,3],[3,2,1]]))))"
   ],
   "metadata": {
    "collapsed": false
   }
  },
  {
   "cell_type": "markdown",
   "source": [
    "#### jordan标准型"
   ],
   "metadata": {
    "collapsed": false
   }
  },
  {
   "cell_type": "code",
   "execution_count": null,
   "outputs": [],
   "source": [
    "#A = np.array([[3,1,0,0],[-4,-1,0,0],[6,2,0,-1],[-2,0,1,2]])\n",
    "a = Matrix(np.array([[4,9,2], [3,5,7], [8,1,6]]))\n",
    "P, Ja = a.jordan_form()\n",
    "pprint.pprint(Ja)\n",
    "pprint.pprint(P)"
   ],
   "metadata": {
    "collapsed": false
   }
  },
  {
   "cell_type": "code",
   "execution_count": null,
   "outputs": [],
   "source": [
    "\n",
    "\n",
    "\n",
    "G = nx.fast_gnp_random_graph(4, 0.5)\n",
    "adj_matrix = nx.adjacency_matrix(G).todense()\n",
    "\n",
    "\n",
    "# A1 = np.ones((4, 4))\n",
    "# B = A1 - adj_matrix\n",
    "# B = np.array(B, dtype=int)\n",
    "# det_B = np.linalg.det(B)\n",
    "\n",
    "# mat = np.array([[-1, 1, 0],\n",
    "#               [-4, 3, 0],\n",
    "#               [1, 0, 2]])\n",
    "\n",
    "# mat = np.array([[0, 1, 0, 0],\n",
    "#                 [0, 0, 1, 0],\n",
    "#                 [0, 0, 0, 1],\n",
    "#                 [0, 0, 0, 0]])\n",
    "\n",
    "# eigenvalue, featurevector = np.linalg.eig(mat)\n",
    "\n",
    "# print(mat)\n",
    "# print(B)\n",
    "print(adj_matrix)\n",
    "# print(det_B)\n",
    "# print(\"特征值：\\n\", eigenvalue)\n",
    "# print(\"特征向量：\\n\", featurevector)\n",
    " adj_matrix = nx.adjacency_matrix(G).todense()"
   ],
   "metadata": {
    "collapsed": false
   }
  },
  {
   "cell_type": "code",
   "execution_count": null,
   "outputs": [],
   "source": [
    "n = 1000  # 1000 nodes\n",
    "m = 5000  # 5000 edges\n",
    "G = nx.gnm_random_graph(n, m, seed=5040)  # Seed for reproducibility\n",
    "L = nx.normalized_laplacian_matrix(G)\n",
    "e = np.linalg.eigvals(L.A)      # 获取特征值\n",
    "print(\"Largest eigenvalue:\", max(e))\n",
    "print(\"Smallest eigenvalue:\", min(e))\n",
    "plt.hist(e, bins=100)           # histogram with 100 bins\n",
    "plt.xlim(0, 2)                  # eigenvalues between 0 and 2\n",
    "plt.show()"
   ],
   "metadata": {
    "collapsed": false
   }
  },
  {
   "cell_type": "markdown",
   "source": [
    "### 传递约简"
   ],
   "metadata": {
    "collapsed": false
   }
  },
  {
   "cell_type": "markdown",
   "source": [],
   "metadata": {
    "collapsed": false
   }
  },
  {
   "cell_type": "code",
   "execution_count": null,
   "outputs": [],
   "source": [
    "# #### Transitive reduction Function #### #\n",
    "#   param:  matrix: Adjacency Matrix\n",
    "#   return: A matrix that has been reduced in transitive\n",
    "def transitive_reduction_matrix(dagx):\n",
    "    matrix = np.array(nx.adjacency_matrix(dagx).todense())\n",
    "    row, columns = matrix.shape\n",
    "    # 行列式\n",
    "    # assert (row == columns)\n",
    "    # assert (columns == self.task_num)\n",
    "    print(\"matrix shape is ({0},{1})\".format(row, columns))\n",
    "    i_test = np.eye(columns).astype(bool)\n",
    "    i_matrix = matrix.astype(bool)\n",
    "    D = np.power((i_matrix | i_test), columns)  # (M | I)^n\n",
    "    D = D.astype(bool) & (~i_test)\n",
    "    TR = matrix & (~(np.dot(i_matrix, D)))  # Tr = T ∩ （-（T . D））\n",
    "    return nx.DiGraph(TR)"
   ],
   "metadata": {
    "collapsed": false
   }
  },
  {
   "cell_type": "code",
   "execution_count": null,
   "outputs": [],
   "source": [
    "#####################################\n",
    "# todo Section_0: DAG Basic function\n",
    "#####################################\n",
    "# #### Gets the nodes in the ready state of the DAG #### #\n",
    "def get_ready_node_list(temp_DAG_list, run_list, ready_list):\n",
    "    temp_ready_list = [(ready_node_x[0], ready_node_x[1][0])for ready_node_x in ready_list]\n",
    "    ret_list = []\n",
    "    for temp_DAG_x in temp_DAG_list:\n",
    "        ret_list += [(temp_DAG_x.graph['DAG_ID'], x) for x in temp_DAG_x.nodes(data=True) if\n",
    "                     (len(list(temp_DAG_x.predecessors(x[0]))) == 0) and\n",
    "                     ((temp_DAG_x.graph['DAG_ID'], x[0]) not in run_list) and\n",
    "                     ((temp_DAG_x.graph['DAG_ID'], x[0]) not in temp_ready_list)]\n",
    "    return ret_list\n",
    "\n"
   ],
   "metadata": {
    "collapsed": false
   }
  },
  {
   "cell_type": "code",
   "execution_count": null,
   "outputs": [],
   "source": [
    "from itertools import combinations\n",
    "s = ['1','2','3']\n",
    "for element in combinations(s,2):\n",
    "    a = ''.join(element)\n",
    "    print(a,end=' ')"
   ],
   "metadata": {
    "collapsed": false
   }
  },
  {
   "cell_type": "code",
   "execution_count": null,
   "outputs": [],
   "source": [],
   "metadata": {
    "collapsed": false
   }
  }
 ],
 "metadata": {
  "kernelspec": {
   "name": "python3",
   "language": "python",
   "display_name": "Python 3 (ipykernel)"
  },
  "language_info": {
   "codemirror_mode": {
    "name": "ipython",
    "version": 2
   },
   "file_extension": ".py",
   "mimetype": "text/x-python",
   "name": "python",
   "nbconvert_exporter": "python",
   "pygments_lexer": "ipython2",
   "version": "2.7.6"
  }
 },
 "nbformat": 4,
 "nbformat_minor": 0
}
