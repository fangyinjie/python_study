{
 "cells": [
  {
   "cell_type": "markdown",
   "source": [
    "# 枪手博弈"
   ],
   "metadata": {
    "collapsed": false
   }
  },
  {
   "cell_type": "code",
   "execution_count": 7,
   "outputs": [],
   "source": [
    "# 规则，各枪手向当前存活的枪手开枪，最厉害的枪手先开枪然后从强向弱轮换\n",
    "import copy\n",
    "import random"
   ],
   "metadata": {
    "collapsed": false
   }
  },
  {
   "cell_type": "code",
   "execution_count": 8,
   "outputs": [],
   "source": [
    "def Gunner_game(Game_num, Gunner_num=3, max_hit_rate=0.9, min_hit_rate=0.1):\n",
    "    hitrate_interval = (max_hit_rate - min_hit_rate)/(Gunner_num + 1)\n",
    "    Gunner_list = [(Gunner_id, max_hit_rate - hitrate_interval * (Gunner_id + 1)) for Gunner_id in range(Gunner_num)]\n",
    "    # Gunner_list = [(0,0.5),(1,0.3),(2,0.2)]\n",
    "    ret = []\n",
    "    for exma_num in range(Game_num):\n",
    "        # print(f'############################################################')\n",
    "        losser_list = []\n",
    "        winer = None\n",
    "        while len(Gunner_list) - len(losser_list) > 1:\n",
    "            for Gunner_id, Hit_rate in Gunner_list:\n",
    "                if (Gunner_id, Hit_rate) in losser_list:\n",
    "                    continue\n",
    "                # print(f'#(1)# I am the Gunner_{Gunner_id}, my Hit rate is:{Hit_rate}')\n",
    "                Gunner_list_x = copy.deepcopy(Gunner_list)\n",
    "                Gunner_list_x.remove((Gunner_id, Hit_rate))\n",
    "                for losser_x in losser_list:\n",
    "                    Gunner_list_x.remove(losser_x)\n",
    "                Gunner_list_x.sort(key=lambda x: x[1], reverse=True)\n",
    "                Gunner_target = Gunner_list_x.pop(0)\n",
    "                # print(f'#(2)# my target is Gunner_{Gunner_target[0]}, his Hit rate is:{Gunner_target[1]}')\n",
    "                if random.random() <= Hit_rate:\n",
    "                    # print(f'#(3)# I kill the Gunner_{Gunner_target[0]}, his Hit rate is:{Gunner_target[1]}')\n",
    "                    losser_list.append(Gunner_target)\n",
    "                    if len(Gunner_list) - len(losser_list) == 1:\n",
    "                        winer = (Gunner_id, Hit_rate)\n",
    "                        break\n",
    "                # else:\n",
    "                    # print(f'#(3)# I failed kill the Gunner_{Gunner_target[0]}, his Hit rate is:{Gunner_target[1]}')\n",
    "        # print(f'exam_num:{exma_num}_the winner is {winer[0]}, his hit rate is {winer[1]}')\n",
    "        ret.append(winer[0])\n",
    "    for Gunner_id, Hit_rate in Gunner_list:\n",
    "        winnum = len([retx for retx in ret if retx == Gunner_id])\n",
    "        print(f'Guner_{Gunner_id};hit_rate is:{Hit_rate}; win_num is :{winnum};win rate:{winnum/Game_num}')"
   ],
   "metadata": {
    "collapsed": false
   }
  },
  {
   "cell_type": "code",
   "execution_count": 18,
   "outputs": [
    {
     "name": "stdout",
     "output_type": "stream",
     "text": [
      "Guner_0;hit_rate is:0.875; win_num is :30528;win rate:0.30528\n",
      "Guner_1;hit_rate is:0.75; win_num is :4594;win rate:0.04594\n",
      "Guner_2;hit_rate is:0.625; win_num is :64878;win rate:0.64878\n"
     ]
    }
   ],
   "source": [
    "if __name__ == \"__main__\":\n",
    "     Gunner_game(100000, 3, 1.0, 0.5)    # 100 000 4s"
   ],
   "metadata": {
    "collapsed": false
   }
  },
  {
   "cell_type": "code",
   "execution_count": null,
   "outputs": [],
   "source": [],
   "metadata": {
    "collapsed": false
   }
  }
 ],
 "metadata": {
  "kernelspec": {
   "display_name": "Python 3",
   "language": "python",
   "name": "python3"
  },
  "language_info": {
   "codemirror_mode": {
    "name": "ipython",
    "version": 2
   },
   "file_extension": ".py",
   "mimetype": "text/x-python",
   "name": "python",
   "nbconvert_exporter": "python",
   "pygments_lexer": "ipython2",
   "version": "2.7.6"
  }
 },
 "nbformat": 4,
 "nbformat_minor": 0
}
